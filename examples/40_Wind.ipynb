{
 "cells": [
  {
   "cell_type": "markdown",
   "metadata": {
    "collapsed": true
   },
   "source": [
    "### A larger more pythonic example\n",
    "\n",
    "A version of @inconvergent's wind rendering to p55py.\n",
    "https://github.com/inconvergent/wind"
   ]
  },
  {
   "cell_type": "code",
   "execution_count": 1,
   "metadata": {
    "collapsed": true
   },
   "outputs": [],
   "source": [
    "import p55py.sketch\n",
    "from IPython.display import display"
   ]
  },
  {
   "cell_type": "code",
   "execution_count": 2,
   "metadata": {
    "collapsed": true
   },
   "outputs": [],
   "source": [
    "# some color constants (we'll be able to override one from the panel)\n",
    "\n",
    "BACK = (255,255,255,255)\n",
    "FRONT = (0, 0, 0, 255)\n",
    "LIGHT = (0, 100, 0, 255)\n",
    "CYAN = (0, 100, 100, 255)\n",
    "BLUE = (0, 0, 200, 255)\n",
    "RED = (128, 0, 0, 255)\n",
    "\n",
    "FRONTCOLORS = [FRONT, LIGHT, CYAN, BLUE, RED]"
   ]
  },
  {
   "cell_type": "code",
   "execution_count": 3,
   "metadata": {
    "collapsed": true
   },
   "outputs": [],
   "source": [
    "# simulation constants (we'll expose two in the panel)\n",
    "NMAX = 10**6\n",
    "SIZE = 200\n",
    "ONE = 1.5/SIZE\n",
    "LINEWIDTH = ONE*1.1\n",
    "\n",
    "INIT_NUM = 4\n",
    "\n",
    "STP = ONE*3\n",
    "\n",
    "ANGLE_STP = 0.5\n",
    "ANGLE_LOCAL_STP = 0.8"
   ]
  },
  {
   "cell_type": "code",
   "execution_count": 4,
   "metadata": {
    "collapsed": false
   },
   "outputs": [],
   "source": [
    "from modules.wind import Wind\n",
    "\n",
    "# setup to initialize\n",
    "def setup_wind(canvas):\n",
    "    global ANGLE_STP, ANGLE_LOCAL_STP\n",
    "    canvas.wind = Wind(NMAX, SIZE, STP, ANGLE_STP, ANGLE_LOCAL_STP)\n",
    "    canvas.wind.rnd_seed(INIT_NUM)\n",
    "\n",
    "# step updates the model\n",
    "def step_wind(canvas):\n",
    "    res = canvas.wind.step()\n",
    "\n",
    "# render draws the model (idempotent)\n",
    "def render_wind(canvas):\n",
    "    canvas.fill(225)\n",
    "    canvas.cur_outline = canvas.cur_fill\n",
    "    canvas.rectangle(0,0,canvas.width,canvas.height)\n",
    "    canvas.fill(0)\n",
    "\n",
    "    xy = canvas.wind.xy\n",
    "    n = canvas.wind.n\n",
    "    r = canvas.wind.r\n",
    "\n",
    "    for i,x in enumerate(xy[:n,:]):\n",
    "        canvas.cur_fill = FRONTCOLORS[r[i]]\n",
    "        canvas.cur_outline = FRONTCOLORS[r[i]]\n",
    "        canvas.ellipse(int(canvas.width*x[0]), int(canvas.height*x[1]), 2, 2)\n",
    "\n",
    "    for i,p in enumerate(canvas.wind.p[:n]):\n",
    "        if p>-1:\n",
    "            canvas.cur_fill = FRONTCOLORS[r[i]]\n",
    "            canvas.cur_outline = FRONTCOLORS[r[i]]\n",
    "            source = canvas.width * xy[p,:].flatten()\n",
    "            dest = canvas.width * xy[i,:].flatten()\n",
    "            canvas.line(source[0], source[1], dest[0], dest[1])"
   ]
  },
  {
   "cell_type": "markdown",
   "metadata": {
    "collapsed": true
   },
   "source": [
    "### With no panel, straightforward to use"
   ]
  },
  {
   "cell_type": "code",
   "execution_count": 5,
   "metadata": {
    "collapsed": false
   },
   "outputs": [],
   "source": [
    "sketch = p55py.sketch.Sketch(400, 400, setupfn=setup_wind, stepfn=step_wind, renderfn=render_wind)\n",
    "sketch.canvas.redraw_freq = 5  # draw only every 5th step\n",
    "sketch.widget()"
   ]
  },
  {
   "cell_type": "markdown",
   "metadata": {},
   "source": [
    "# WARNING: settings panel below is currently NOT WORKING\n",
    "----"
   ]
  },
  {
   "cell_type": "code",
   "execution_count": 1,
   "metadata": {
    "collapsed": false
   },
   "outputs": [
    {
     "ename": "ImportError",
     "evalue": "No module named 'webcolors'",
     "output_type": "error",
     "traceback": [
      "\u001b[0;31m---------------------------------------------------------------------------\u001b[0m",
      "\u001b[0;31mImportError\u001b[0m                               Traceback (most recent call last)",
      "\u001b[0;32m<ipython-input-1-66d8ba4c6d82>\u001b[0m in \u001b[0;36m<module>\u001b[0;34m()\u001b[0m\n\u001b[1;32m      1\u001b[0m \u001b[0;32mimport\u001b[0m \u001b[0mipywidgets\u001b[0m \u001b[0;32mas\u001b[0m \u001b[0mwidgets\u001b[0m\u001b[0;34m\u001b[0m\u001b[0m\n\u001b[0;32m----> 2\u001b[0;31m \u001b[0;32mimport\u001b[0m \u001b[0mwebcolors\u001b[0m\u001b[0;34m\u001b[0m\u001b[0m\n\u001b[0m",
      "\u001b[0;31mImportError\u001b[0m: No module named 'webcolors'"
     ]
    }
   ],
   "source": [
    "import ipywidgets as widgets\n",
    "import webcolors"
   ]
  },
  {
   "cell_type": "markdown",
   "metadata": {},
   "source": [
    "### Wiring up a panel is currently cumbersome, but doable\n",
    "Note that in addition to the model parameters above, this panel also exposes some more generic settings:\n",
    " * the current random seed\n",
    " * whether the seed is auto-incremented each run (disable to manually return to known good seed)\n",
    " * the draw frequency (updates per render)"
   ]
  },
  {
   "cell_type": "code",
   "execution_count": 6,
   "metadata": {
    "collapsed": true
   },
   "outputs": [],
   "source": [
    "def wrapped_wind_settings(wrapper):\n",
    "    def settings_updated(randomSeed, incSeed, drawFreq, ASTP, ALOCAL, color):\n",
    "        global FRONTCOLORS\n",
    "        global ANGLE_STP\n",
    "        global ANGLE_LOCAL_STP\n",
    "        wrapper.randomSeed = randomSeed\n",
    "        wrapper.incSeedOnStop = incSeed\n",
    "        wrapper.redrawFreq = drawFreq\n",
    "        ANGLE_STP = ASTP\n",
    "        ANGLE_LOCAL_STP = ALOCAL\n",
    "        t = webcolors.html5_parse_legacy_color(color)\n",
    "        FRONTCOLORS[0] = (t[0], t[1], t[2], 255)\n",
    "        return None\n",
    "    return settings_updated"
   ]
  },
  {
   "cell_type": "code",
   "execution_count": 7,
   "metadata": {
    "collapsed": false
   },
   "outputs": [
    {
     "data": {
      "application/vnd.jupyter.widget": "f43beca1cd9445eba6941c6d7ffff8e7",
      "image/png": "[encoded data removed]"
     },
     "metadata": {},
     "output_type": "display_data"
    }
   ],
   "source": [
    "wrapper = P55Wrapper(setupfn=setup_wind, stepfn=step_wind, renderfn=render_wind)\n",
    "settings_callback = wrapped_wind_settings(wrapper)\n",
    "cp = widgets.ColorPicker()\n",
    "seedWidget = widgets.IntText(wrapper.randomSeed)\n",
    "incSeedWidget = widgets.Checkbox(description='Inc Seed on Stop', value=wrapper.incSeedOnStop)\n",
    "rw = widgets.IntSlider(value=1,min=1,max=20)\n",
    "asw = widgets.FloatSlider(value=0.5,min=0,max=2)\n",
    "alsw = widgets.FloatSlider(value=0.8,min=0,max=2)\n",
    "w = widgets.interactive(settings_callback, randomSeed=seedWidget, incSeed=incSeedWidget, drawFreq=rw, ASTP=asw, ALOCAL=alsw, color=cp)\n",
    "wrapper.addSettingsPane(w, seedWidget)\n",
    "wrapper.play.max = 1000\n",
    "wrapper.redrawFreq = 5\n",
    "display(wrapper.widget)"
   ]
  },
  {
   "cell_type": "code",
   "execution_count": null,
   "metadata": {
    "collapsed": true
   },
   "outputs": [],
   "source": []
  }
 ],
 "metadata": {
  "kernelspec": {
   "display_name": "Python 3",
   "language": "python",
   "name": "python3"
  },
  "language_info": {
   "codemirror_mode": {
    "name": "ipython",
    "version": 3
   },
   "file_extension": ".py",
   "mimetype": "text/x-python",
   "name": "python",
   "nbconvert_exporter": "python",
   "pygments_lexer": "ipython3",
   "version": "3.5.2"
  },
  "widgets": {
   "state": {
    "2a4ccb069d0e4a84ae41b7d8d182cb1c": {
     "views": [
      {
       "cell_index": 6
      }
     ]
    }
   },
   "version": "1.2.0"
  }
 },
 "nbformat": 4,
 "nbformat_minor": 0
}
