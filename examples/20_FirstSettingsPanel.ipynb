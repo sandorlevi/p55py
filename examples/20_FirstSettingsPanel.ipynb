{
 "cells": [
  {
   "cell_type": "markdown",
   "metadata": {},
   "source": [
    "# THIS EXAMPLE IS NOT WORKING\n",
    "\n",
    "## This example shows how to have a sketch with a settings panel\n",
    "\n",
    "### Settings panel callback (this would eventually be automated, etc)"
   ]
  },
  {
   "cell_type": "code",
   "execution_count": 1,
   "metadata": {
    "collapsed": true
   },
   "outputs": [],
   "source": [
    "# This is not pretty\n",
    "def wrapped_widgets(wrapper):\n",
    "    def settings_updated(radius, color):\n",
    "        if radius < 0:\n",
    "            radius = 0\n",
    "        wrapper.p55_widget.radius = radius\n",
    "        t = webcolors.html5_parse_legacy_color(color)\n",
    "        wrapper.p55_widget.color = (t[0], t[1], t[2], 255)\n",
    "    return settings_updated"
   ]
  },
  {
   "cell_type": "markdown",
   "metadata": {},
   "source": [
    "### Core draw routine"
   ]
  },
  {
   "cell_type": "code",
   "execution_count": 2,
   "metadata": {
    "collapsed": true
   },
   "outputs": [],
   "source": [
    "def draw(self):\n",
    "    self.fill(128)\n",
    "    if self.mousePressed:\n",
    "        self.fill(0)\n",
    "    else:\n",
    "        self.cur_fill = self.color\n",
    "    self.ellipse(self.mouseX, self.mouseY, self.radius, self.radius)"
   ]
  },
  {
   "cell_type": "markdown",
   "metadata": {},
   "source": [
    "### The current glue that ties this together\n",
    "Enjoy 1000 frames of interaction.\n",
    "Change radius and color at will. Protip: works best when paused."
   ]
  },
  {
   "cell_type": "code",
   "execution_count": 3,
   "metadata": {
    "collapsed": false
   },
   "outputs": [
    {
     "data": {
      "application/vnd.jupyter.widget": "ab9accaafd6b4c05bdffe6c08cc29875"
     },
     "metadata": {},
     "output_type": "display_data"
    }
   ],
   "source": [
    "from p55py import P55Wrapper\n",
    "import ipywidgets as widgets\n",
    "import webcolors\n",
    "\n",
    "wrapper = P55Wrapper(drawfn=draw)\n",
    "settings_callback = wrapped_widgets(wrapper)\n",
    "cp = widgets.ColorPicker()\n",
    "cp.value = \"white\"\n",
    "w = widgets.interactive(settings_callback, radius=80, color=cp)\n",
    "wrapper.addSettingsPane(w, None)\n",
    "wrapper.play.max = 1000\n",
    "wrapper.widget"
   ]
  },
  {
   "cell_type": "code",
   "execution_count": null,
   "metadata": {
    "collapsed": true
   },
   "outputs": [],
   "source": []
  }
 ],
 "metadata": {
  "kernelspec": {
   "display_name": "Python 3",
   "language": "python",
   "name": "python3"
  },
  "language_info": {
   "codemirror_mode": {
    "name": "ipython",
    "version": 3
   },
   "file_extension": ".py",
   "mimetype": "text/x-python",
   "name": "python",
   "nbconvert_exporter": "python",
   "pygments_lexer": "ipython3",
   "version": "3.5.2"
  }
 },
 "nbformat": 4,
 "nbformat_minor": 0
}
