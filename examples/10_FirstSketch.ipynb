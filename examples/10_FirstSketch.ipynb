{
 "cells": [
  {
   "cell_type": "markdown",
   "metadata": {
    "collapsed": false
   },
   "source": [
    "### Smalest examples of p55 canvas and sketch"
   ]
  },
  {
   "cell_type": "code",
   "execution_count": 1,
   "metadata": {
    "collapsed": false
   },
   "outputs": [],
   "source": [
    "# This defines the behavior of a simple sketch\n",
    "import p55py.canvas\n",
    "import random\n",
    "\n",
    "def setup(canvas):\n",
    "    global xpos, ypos\n",
    "    xpos = 0.5 * canvas.width\n",
    "    ypos = 0.5 * canvas.height\n",
    "\n",
    "def draw(canvas):\n",
    "    global xpos, ypos\n",
    "    if canvas.step_number % 5 == 0:\n",
    "        canvas.fill(0)\n",
    "    else:\n",
    "        canvas.fill(255)\n",
    "    canvas.ellipse(xpos, ypos, 80, 80)\n",
    "    xpos += random.randint(-10, 10)\n",
    "    ypos += random.randint(-10, 10)"
   ]
  },
  {
   "cell_type": "code",
   "execution_count": 2,
   "metadata": {
    "collapsed": false,
    "scrolled": true
   },
   "outputs": [
    {
     "data": {
      "image/png": "[encoded data removed]",
      "text/plain": [
       "<PIL.Image.Image image mode=RGBA size=320x240 at 0x10587E470>"
      ]
     },
     "execution_count": 2,
     "metadata": {},
     "output_type": "execute_result"
    }
   ],
   "source": [
    "# create a canvas, step 30 iterations, and then display\n",
    "canvas = p55py.canvas.Canvas(320, 240, setupfn=setup, drawfn=draw)\n",
    "for i in range(30):\n",
    "    canvas.onecycle()\n",
    "canvas.image()"
   ]
  },
  {
   "cell_type": "code",
   "execution_count": 3,
   "metadata": {
    "collapsed": false
   },
   "outputs": [],
   "source": [
    "# now create a sketch from the same definition\n",
    "import p55py.sketch\n",
    "sketch = p55py.sketch.Sketch(320, 240, setupfn=setup, drawfn=draw)\n",
    "sketch.widget()"
   ]
  }
 ],
 "metadata": {
  "kernelspec": {
   "display_name": "Python 3",
   "language": "python",
   "name": "python3"
  },
  "language_info": {
   "codemirror_mode": {
    "name": "ipython",
    "version": 3
   },
   "file_extension": ".py",
   "mimetype": "text/x-python",
   "name": "python",
   "nbconvert_exporter": "python",
   "pygments_lexer": "ipython3",
   "version": "3.5.2"
  },
  "widgets": {
   "state": {
    "4964a10712f84d41a378bbc1c55f824e": {
     "views": [
      {
       "cell_index": 3
      }
     ]
    }
   },
   "version": "1.2.0"
  }
 },
 "nbformat": 4,
 "nbformat_minor": 0
}
