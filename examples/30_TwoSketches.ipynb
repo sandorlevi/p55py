{
 "cells": [
  {
   "cell_type": "markdown",
   "metadata": {
    "collapsed": true
   },
   "source": [
    "### Not a problem running multiple sketches"
   ]
  },
  {
   "cell_type": "code",
   "execution_count": 1,
   "metadata": {
    "collapsed": true
   },
   "outputs": [],
   "source": [
    "import p55py.sketch\n",
    "from IPython.display import display\n",
    "import random"
   ]
  },
  {
   "cell_type": "code",
   "execution_count": 2,
   "metadata": {
    "collapsed": false
   },
   "outputs": [],
   "source": [
    "# Two flavors of draw which share some state (xpos, ypos)\n",
    "def setup_circles(canvas):\n",
    "    global xpos, ypos\n",
    "    xpos = 0.5 * canvas.width\n",
    "    ypos = 0.5 * canvas.height\n",
    "\n",
    "def draw_circles(canvas):\n",
    "    global xpos, ypos\n",
    "    if canvas.step_number % 5 == 0:\n",
    "        canvas.fill(0)\n",
    "    else:\n",
    "        canvas.fill(255)\n",
    "    canvas.ellipse(xpos, ypos, 80, 80)\n",
    "    xpos += random.randint(-5, 5)\n",
    "    ypos += random.randint(-5, 5)\n",
    "\n",
    "def draw_lines(canvas):\n",
    "    global xpos, ypos\n",
    "    if canvas.step_number % 5 == 0:\n",
    "        color = (255,0,0,255)\n",
    "    else:\n",
    "        color = (0,0,255,255)\n",
    "    canvas.cur_fill = color\n",
    "    canvas.line(0.5 * canvas.width, 0.5 * canvas.height, xpos, ypos)"
   ]
  },
  {
   "cell_type": "code",
   "execution_count": 3,
   "metadata": {
    "collapsed": true
   },
   "outputs": [],
   "source": [
    "# Create two sketches\n",
    "sketch_circles = p55py.sketch.Sketch(320, 240, setupfn=setup_circles, drawfn=draw_circles)\n",
    "sketch_lines = p55py.sketch.Sketch(320, 240, drawfn=draw_lines)"
   ]
  },
  {
   "cell_type": "code",
   "execution_count": 4,
   "metadata": {
    "collapsed": false
   },
   "outputs": [],
   "source": [
    "# Display both\n",
    "display(sketch_circles.widget())\n",
    "display(sketch_lines.widget())"
   ]
  },
  {
   "cell_type": "code",
   "execution_count": 5,
   "metadata": {
    "collapsed": true
   },
   "outputs": [],
   "source": [
    "# They can also be opened more than once, and displayed side by side\n",
    "import ipywidgets as widgets\n",
    "display(widgets.HBox([sketch_circles.widget(),sketch_lines.widget()]))"
   ]
  },
  {
   "cell_type": "code",
   "execution_count": null,
   "metadata": {
    "collapsed": true
   },
   "outputs": [],
   "source": []
  }
 ],
 "metadata": {
  "kernelspec": {
   "display_name": "Python 3",
   "language": "python",
   "name": "python3"
  },
  "language_info": {
   "codemirror_mode": {
    "name": "ipython",
    "version": 3
   },
   "file_extension": ".py",
   "mimetype": "text/x-python",
   "name": "python",
   "nbconvert_exporter": "python",
   "pygments_lexer": "ipython3",
   "version": "3.5.2"
  },
  "widgets": {
   "state": {
    "8be10799952a4d95a704320ff546af70": {
     "views": [
      {
       "cell_index": 4
      },
      {
       "cell_index": 4
      }
     ]
    },
    "a0144d82acec44ed885a9785d21caa42": {
     "views": [
      {
       "cell_index": 4
      }
     ]
    },
    "bd4473ddd82b45cfa496f28960cf8045": {
     "views": [
      {
       "cell_index": 4
      }
     ]
    },
    "bf45051fad8a4d86930ea18f7403a812": {
     "views": [
      {
       "cell_index": 4
      },
      {
       "cell_index": 4
      }
     ]
    },
    "f0a3ecb23b794021ad6a52cb7b949e26": {
     "views": [
      {
       "cell_index": 5
      }
     ]
    }
   },
   "version": "1.2.0"
  }
 },
 "nbformat": 4,
 "nbformat_minor": 0
}
